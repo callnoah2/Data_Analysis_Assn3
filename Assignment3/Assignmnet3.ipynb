{
 "cells": [
  {
   "cell_type": "markdown",
   "metadata": {},
   "source": [
    "# Assignment 3"
   ]
  },
  {
   "cell_type": "markdown",
   "metadata": {},
   "source": [
    "## Part 1"
   ]
  },
  {
   "cell_type": "markdown",
   "metadata": {},
   "source": [
    "### A"
   ]
  },
  {
   "cell_type": "code",
   "execution_count": 1,
   "metadata": {},
   "outputs": [],
   "source": [
    "import mysql.connector\n",
    "from datetime import datetime\n",
    "\n",
    "conn = mysql.connector.connect(\n",
    "    host=\" Noahs-Mac-mini.local\",\n",
    "    user=\"monty\",\n",
    "    password=\"sushiSQL\",\n",
    "    database=\"Assn3\"\n",
    ")\n",
    "cursor = conn.cursor()"
   ]
  },
  {
   "cell_type": "markdown",
   "metadata": {},
   "source": [
    "### B"
   ]
  },
  {
   "cell_type": "code",
   "execution_count": 2,
   "metadata": {},
   "outputs": [
    {
     "name": "stdout",
     "output_type": "stream",
     "text": [
      "complete\n"
     ]
    }
   ],
   "source": [
    "create_table_query = \"\"\"\n",
    "CREATE TABLE IF NOT EXISTS `WikiEdit` (\n",
    "    `RevisionID` INT PRIMARY KEY,\n",
    "    `ArticleName` VARCHAR(500),\n",
    "    `EditDate` DATE,\n",
    "    `UserName` VARCHAR(50)\n",
    ")\n",
    "\"\"\"\n",
    "cursor.execute(create_table_query)\n",
    "print(\"complete\")"
   ]
  },
  {
   "cell_type": "markdown",
   "metadata": {},
   "source": [
    "### C"
   ]
  },
  {
   "cell_type": "code",
   "execution_count": 3,
   "metadata": {},
   "outputs": [],
   "source": [
    "file_path = \"data/wiki_edit.txt\"\n",
    "with open(file_path, 'r') as file:\n",
    "    for line_number, line in enumerate(file, start=1):\n",
    "        # Split values based on whitespace\n",
    "        fields = line.strip().split()\n",
    "\n",
    "        if len(fields) == 4:\n",
    "            try:\n",
    "                revision_id, article_name, edit_date_str, user_name = fields\n",
    "\n",
    "                # Convert EditDate to date object\n",
    "                edit_date = datetime.strptime(edit_date_str, '%Y-%m-%d').date()\n",
    "\n",
    "                # Insert data into the database\n",
    "                insert_query = \"\"\"\n",
    "                INSERT INTO `WikiEdit` (`RevisionID`, `ArticleName`, `EditDate`, `UserName`)\n",
    "                VALUES (%s, %s, %s, %s)\n",
    "                \"\"\"\n",
    "                cursor.execute(insert_query, (int(revision_id), article_name, edit_date, user_name))\n",
    "                conn.commit()\n",
    "            except ValueError as e:\n",
    "                print(f\"Ignoring line {line_number}: {line.strip()} - {e}\")\n",
    "        else:\n",
    "            print(f\"Ignoring line {line_number}: {line.strip()} - Not enough values to unpack (expected 4, got {len(fields)})\")"
   ]
  },
  {
   "cell_type": "markdown",
   "metadata": {},
   "source": [
    "### D"
   ]
  },
  {
   "cell_type": "code",
   "execution_count": 4,
   "metadata": {},
   "outputs": [
    {
     "name": "stdout",
     "output_type": "stream",
     "text": [
      "Article name with the largest number of edits: 2004_Indian_Ocean_earthquake\n"
     ]
    }
   ],
   "source": [
    "largest_edit_query = \"\"\"\n",
    "SELECT ArticleName, COUNT(*) AS EditCount\n",
    "FROM `WikiEdit`\n",
    "GROUP BY ArticleName\n",
    "ORDER BY EditCount DESC\n",
    "LIMIT 1\n",
    "\"\"\"\n",
    "cursor.execute(largest_edit_query)\n",
    "result = cursor.fetchone()\n",
    "if result:\n",
    "    article_name_with_most_edits = result[0]\n",
    "    print(f\"Article name with the largest number of edits: {article_name_with_most_edits}\")\n",
    "\n",
    "# Close the connection\n",
    "cursor.close()\n",
    "conn.close()"
   ]
  },
  {
   "cell_type": "markdown",
   "metadata": {},
   "source": [
    "## PART 2"
   ]
  },
  {
   "cell_type": "markdown",
   "metadata": {},
   "source": [
    "### A"
   ]
  },
  {
   "cell_type": "code",
   "execution_count": 5,
   "metadata": {},
   "outputs": [
    {
     "name": "stdout",
     "output_type": "stream",
     "text": [
      "Service `mongodb-community` already started, use `brew services restart mongodb-community` to restart.\n"
     ]
    }
   ],
   "source": [
    "# !brew services start mongodb/brew/mongodb-community\n",
    "# !mongod --config /opt/homebrew/etc/mongod.conf\n",
    "# !mongosh\n",
    "# !use mongoAssn3"
   ]
  },
  {
   "cell_type": "markdown",
   "metadata": {},
   "source": [
    "### B"
   ]
  },
  {
   "cell_type": "code",
   "execution_count": 9,
   "metadata": {},
   "outputs": [],
   "source": [
    "# !pip install pymongo\n",
    "import json\n",
    "from pymongo import MongoClient\n",
    "from datetime import datetime\n",
    "\n",
    "# MongoDB connection details\n",
    "mongo_uri = \"mongodb://localhost:27017/\"\n",
    "database_name = \"mongoAssn3\"\n",
    "followers_collection_name = \"followers\"\n",
    "followees_collection_name = \"followees\"\n",
    "\n",
    "# Connect to MongoDB\n",
    "client = MongoClient(mongo_uri)\n",
    "database = client[database_name]\n",
    "\n",
    "# Function to insert data into a collection\n",
    "def insert_data(collection, data):\n",
    "    for entry in data:\n",
    "        try:\n",
    "            creation_time_str = entry.get('creation_time', '')\n",
    "            if creation_time_str:\n",
    "                entry['creation_time'] = datetime.strptime(creation_time_str, '%Y-%m-%d %H:%M:%S')  # Convert creation_time to datetime\n",
    "            else:\n",
    "                entry['creation_time'] = None  # Set to None if 'creation_time' is empty\n",
    "            collection.insert_one(entry)\n",
    "        except ValueError as e:\n",
    "            print(f\"Ignoring entry with invalid creation_time: {entry}\")\n",
    "\n",
    "# Read and insert data for followers\n",
    "with open('data/followers.json', 'r', encoding='utf-8') as followers_file:\n",
    "    followers_data = json.load(followers_file)\n",
    "    followers_collection = database[followers_collection_name]\n",
    "    insert_data(followers_collection, followers_data)\n",
    "\n",
    "# Read and insert data for followees\n",
    "with open('data/followees.json', 'r', encoding='utf-8') as followees_file:\n",
    "    followees_data = json.load(followees_file)\n",
    "    followees_collection = database[followees_collection_name]\n",
    "    insert_data(followees_collection, followees_data)\n",
    "\n",
    "# Close the MongoDB connection\n",
    "client.close()"
   ]
  },
  {
   "cell_type": "markdown",
   "metadata": {},
   "source": [
    "## C"
   ]
  },
  {
   "cell_type": "markdown",
   "metadata": {},
   "source": [
    "### I"
   ]
  },
  {
   "cell_type": "code",
   "execution_count": 18,
   "metadata": {},
   "outputs": [
    {
     "name": "stdout",
     "output_type": "stream",
     "text": [
      "Average Followers Count: 2983.21\n"
     ]
    }
   ],
   "source": [
    "followers_collection_name = \"followers\"\n",
    "\n",
    "# Connect to MongoDB\n",
    "client = MongoClient(mongo_uri)\n",
    "database = client[database_name]\n",
    "\n",
    "# Followers count average query\n",
    "average_followers_query = [\n",
    "    {\n",
    "        \"$group\": {\n",
    "            \"_id\": None,\n",
    "            \"average_followers_count\": {\"$avg\": \"$followers_count\"}\n",
    "        }\n",
    "    },\n",
    "    {\n",
    "        \"$project\": {\n",
    "            \"_id\": 0,\n",
    "            \"average_followers_count\": {\"$round\": [\"$average_followers_count\", 2]}\n",
    "        }\n",
    "    }\n",
    "]\n",
    "\n",
    "# Execute the query\n",
    "result = database[followers_collection_name].aggregate(average_followers_query)\n",
    "\n",
    "# Print the result\n",
    "for doc in result:\n",
    "    print(\"Average Followers Count:\", doc[\"average_followers_count\"])\n",
    "\n",
    "# Close the MongoDB connection\n",
    "client.close()"
   ]
  },
  {
   "cell_type": "markdown",
   "metadata": {},
   "source": [
    "### II"
   ]
  },
  {
   "cell_type": "code",
   "execution_count": 19,
   "metadata": {},
   "outputs": [
    {
     "name": "stdout",
     "output_type": "stream",
     "text": [
      "Average Followers Count of Followees: 1075218.86\n"
     ]
    }
   ],
   "source": [
    "followees_collection_name = \"followees\"\n",
    "\n",
    "# Connect to MongoDB\n",
    "client = MongoClient(mongo_uri)\n",
    "database = client[database_name]\n",
    "\n",
    "# Followees count average query with rounding to 2 decimal places\n",
    "average_followees_query = [\n",
    "    {\n",
    "        \"$group\": {\n",
    "            \"_id\": None,\n",
    "            \"average_followers_count\": {\"$avg\": \"$followers_count\"}\n",
    "        }\n",
    "    },\n",
    "    {\n",
    "        \"$project\": {\n",
    "            \"_id\": 0,\n",
    "            \"average_followers_count\": {\"$round\": [\"$average_followers_count\", 2]}\n",
    "        }\n",
    "    }\n",
    "]\n",
    "\n",
    "# Execute the query\n",
    "result = database[followees_collection_name].aggregate(average_followees_query)\n",
    "\n",
    "# Print the result\n",
    "for doc in result:\n",
    "    print(\"Average Followers Count of Followees:\", doc[\"average_followers_count\"])\n",
    "\n",
    "# Close the MongoDB connection\n",
    "client.close()"
   ]
  },
  {
   "cell_type": "markdown",
   "metadata": {},
   "source": [
    "### III"
   ]
  },
  {
   "cell_type": "code",
   "execution_count": 33,
   "metadata": {},
   "outputs": [
    {
     "name": "stdout",
     "output_type": "stream",
     "text": [
      "Average followees count of followers: 1055.49\n",
      "got here 2\n"
     ]
    }
   ],
   "source": [
    "# Connect to MongoDB\n",
    "client = MongoClient(mongo_uri)\n",
    "database = client[database_name]\n",
    "\n",
    "# Average followees count query\n",
    "average_followees_query = [\n",
    "    {\n",
    "        \"$group\": {\n",
    "            \"_id\": None,\n",
    "            \"average_followees_count\": {\"$avg\": \"$friends_count\"}\n",
    "        }\n",
    "    },\n",
    "    {\n",
    "        \"$project\": {\n",
    "            \"_id\": 0,\n",
    "            \"average_followees_count\": {\"$round\": [\"$average_followees_count\", 2]}\n",
    "        }\n",
    "    }\n",
    "]\n",
    "\n",
    "\n",
    "# Execute the query\n",
    "result = database[followers_collection_name].aggregate(average_followees_query)\n",
    "\n",
    "# Print the result\n",
    "for doc in result:\n",
    "    print(\"Average followees count of followers:\", doc['average_followees_count'])\n",
    "\n",
    "# Close the MongoDB connection\n",
    "client.close()"
   ]
  },
  {
   "cell_type": "markdown",
   "metadata": {},
   "source": [
    "### IV"
   ]
  },
  {
   "cell_type": "code",
   "execution_count": 34,
   "metadata": {},
   "outputs": [
    {
     "name": "stdout",
     "output_type": "stream",
     "text": [
      "Average Followees Count of Followees: 1019.7\n"
     ]
    }
   ],
   "source": [
    "# Connect to MongoDB\n",
    "client = MongoClient(mongo_uri)\n",
    "database = client[database_name]\n",
    "\n",
    "# Followees count average query with rounding to 2 decimal places\n",
    "average_followees_query = [\n",
    "    {\n",
    "        \"$group\": {\n",
    "            \"_id\": None,\n",
    "            \"average_followees_count\": {\"$avg\": \"$friends_count\"}\n",
    "        }\n",
    "    },\n",
    "    {\n",
    "        \"$project\": {\n",
    "            \"_id\": 0,\n",
    "            \"average_followees_count\": {\"$round\": [\"$average_followees_count\", 2]}\n",
    "        }\n",
    "    }\n",
    "]\n",
    "\n",
    "# Execute the query\n",
    "result = database[followees_collection_name].aggregate(average_followees_query)\n",
    "\n",
    "# Print the result\n",
    "for doc in result:\n",
    "    print(\"Average Followees Count of Followees:\", doc[\"average_followees_count\"])\n",
    "\n",
    "# Close the MongoDB connection\n",
    "client.close()"
   ]
  },
  {
   "cell_type": "markdown",
   "metadata": {},
   "source": [
    "### V"
   ]
  },
  {
   "cell_type": "code",
   "execution_count": 65,
   "metadata": {},
   "outputs": [
    {
     "name": "stdout",
     "output_type": "stream",
     "text": [
      "Number of Verified Followers: 1\n",
      "Number of Verified Followees: 11\n",
      "Number of Verified Followers and Followees Combined: 12\n"
     ]
    }
   ],
   "source": [
    "# Connect to MongoDB\n",
    "client = MongoClient(mongo_uri)\n",
    "database = client[database_name]\n",
    "\n",
    "# Number of verified followers query\n",
    "verified_followers_query = [\n",
    "    {\n",
    "        \"$match\": {\"verified\": True}\n",
    "    },\n",
    "    {\n",
    "        \"$group\": {\n",
    "            \"_id\": None,\n",
    "            \"count\": {\"$sum\": 1}\n",
    "        }\n",
    "    }\n",
    "]\n",
    "\n",
    "# Number of verified followees query\n",
    "verified_followees_query = [\n",
    "    {\n",
    "        \"$match\": {\"verified\": True}\n",
    "    },\n",
    "    {\n",
    "        \"$group\": {\n",
    "            \"_id\": None,\n",
    "            \"count\": {\"$sum\": 1}\n",
    "        }\n",
    "    }\n",
    "]\n",
    "\n",
    "# Create a temporary collection by merging followers and followees\n",
    "temp_combined_collection = \"temp_combined_collection\"\n",
    "database[followers_collection_name].aggregate([\n",
    "    {\"$match\": {\"verified\": True}},\n",
    "    {\"$merge\": {\"into\": temp_combined_collection}}\n",
    "], allowDiskUse=True)\n",
    "\n",
    "database[followees_collection_name].aggregate([\n",
    "    {\"$match\": {\"verified\": True}},\n",
    "    {\"$merge\": {\"into\": temp_combined_collection}}\n",
    "], allowDiskUse=True)\n",
    "\n",
    "# Combined count of verified followers and followees\n",
    "combined_verified_query = [\n",
    "    {\n",
    "        \"$group\": {\n",
    "            \"_id\": \"$id\",\n",
    "            \"count\": {\"$sum\": 1}\n",
    "        }\n",
    "    },\n",
    "    {\n",
    "        \"$group\": {\n",
    "            \"_id\": None,\n",
    "            \"count\": {\"$sum\": \"$count\"}\n",
    "        }\n",
    "    }\n",
    "]\n",
    "\n",
    "# Execute queries\n",
    "verified_followers_count = database[followers_collection_name].aggregate(verified_followers_query).next()[\"count\"]\n",
    "verified_followees_count = database[followees_collection_name].aggregate(verified_followees_query).next()[\"count\"]\n",
    "result = database[temp_combined_collection].aggregate(combined_verified_query)\n",
    "\n",
    "# Print the results\n",
    "print(\"Number of Verified Followers:\", verified_followers_count)\n",
    "print(\"Number of Verified Followees:\", verified_followees_count)\n",
    "for doc in result:\n",
    "    combined_verified_count = doc[\"count\"]\n",
    "    print(\"Number of Verified Followers and Followees Combined:\", combined_verified_count)\n",
    "\n",
    "# Drop the temporary collection\n",
    "database[temp_combined_collection].drop()\n",
    "\n",
    "# Close the MongoDB connection\n",
    "client.close()"
   ]
  },
  {
   "cell_type": "markdown",
   "metadata": {},
   "source": [
    "### VI"
   ]
  },
  {
   "cell_type": "code",
   "execution_count": 66,
   "metadata": {},
   "outputs": [
    {
     "name": "stdout",
     "output_type": "stream",
     "text": [
      "Average Favorites Count of Followers: 1899.68\n",
      "Average Favorites Count of Followees: 6092.41\n",
      "Combined Average Favorites Count: 4317.81\n"
     ]
    }
   ],
   "source": [
    "# Connect to MongoDB\n",
    "client = MongoClient(mongo_uri)\n",
    "database = client[database_name]\n",
    "\n",
    "# Average favorites count query for followers\n",
    "average_favorites_followers_query = [\n",
    "    {\n",
    "        \"$group\": {\n",
    "            \"_id\": None,\n",
    "            \"average_favorites_count_followers\": {\"$avg\": \"$favourites_count\"}\n",
    "        }\n",
    "    },\n",
    "    {\n",
    "        \"$project\": {\n",
    "            \"_id\": 0,\n",
    "            \"average_favorites_count_followers\": {\"$round\": [\"$average_favorites_count_followers\", 2]}\n",
    "        }\n",
    "    }\n",
    "]\n",
    "\n",
    "# Average favorites count query for followees\n",
    "average_favorites_followees_query = [\n",
    "    {\n",
    "        \"$group\": {\n",
    "            \"_id\": None,\n",
    "            \"average_favorites_count_followees\": {\"$avg\": \"$favourites_count\"}\n",
    "        }\n",
    "    },\n",
    "    {\n",
    "        \"$project\": {\n",
    "            \"_id\": 0,\n",
    "            \"average_favorites_count_followees\": {\"$round\": [\"$average_favorites_count_followees\", 2]}\n",
    "        }\n",
    "    }\n",
    "]\n",
    "\n",
    "# Create a temporary collection by merging followers and followees\n",
    "temp_combined_collection = \"temp_combined_collection\"\n",
    "database[followers_collection_name].aggregate([\n",
    "    {\"$merge\": {\"into\": temp_combined_collection}}\n",
    "], allowDiskUse=True)\n",
    "\n",
    "database[followees_collection_name].aggregate([\n",
    "    {\"$merge\": {\"into\": temp_combined_collection}}\n",
    "], allowDiskUse=True)\n",
    "\n",
    "# Average favorites count query for combined followers and followees\n",
    "average_favorites_combined_query = [\n",
    "    {\n",
    "        \"$group\": {\n",
    "            \"_id\": None,\n",
    "            \"average_favorites_count_combined\": {\"$avg\": \"$favourites_count\"}\n",
    "        }\n",
    "    },\n",
    "    {\n",
    "        \"$project\": {\n",
    "            \"_id\": 0,\n",
    "            \"average_favorites_count_combined\": {\"$round\": [\"$average_favorites_count_combined\", 2]}\n",
    "        }\n",
    "    }\n",
    "]\n",
    "\n",
    "# Execute queries\n",
    "result_followers = database[followers_collection_name].aggregate(average_favorites_followers_query)\n",
    "result_followees = database[followees_collection_name].aggregate(average_favorites_followees_query)\n",
    "result_combined = database[temp_combined_collection].aggregate(average_favorites_combined_query)\n",
    "\n",
    "# Print the results\n",
    "for doc in result_followers:\n",
    "    print(\"Average Favorites Count of Followers:\", doc[\"average_favorites_count_followers\"])\n",
    "\n",
    "for doc in result_followees:\n",
    "    print(\"Average Favorites Count of Followees:\", doc[\"average_favorites_count_followees\"])\n",
    "\n",
    "for doc in result_combined:\n",
    "    print(\"Combined Average Favorites Count:\", doc[\"average_favorites_count_combined\"])\n",
    "\n",
    "# Drop the temporary collection\n",
    "database[temp_combined_collection].drop()\n",
    "\n",
    "# Close the MongoDB connection\n",
    "client.close()"
   ]
  },
  {
   "cell_type": "markdown",
   "metadata": {},
   "source": [
    "### VII"
   ]
  },
  {
   "cell_type": "code",
   "execution_count": 67,
   "metadata": {},
   "outputs": [
    {
     "name": "stdout",
     "output_type": "stream",
     "text": [
      "Average Tweets Count of Followers: 654.21\n",
      "Average Tweets Count of Followees: 4055.74\n",
      "Combined Average Tweets Count: 2616.02\n"
     ]
    }
   ],
   "source": [
    "# Connect to MongoDB\n",
    "client = MongoClient(mongo_uri)\n",
    "database = client[database_name]\n",
    "\n",
    "# Average number of tweets query for followers\n",
    "average_tweets_followers_query = [\n",
    "    {\n",
    "        \"$group\": {\n",
    "            \"_id\": None,\n",
    "            \"average_tweets_count_followers\": {\"$avg\": \"$statuses_count\"}\n",
    "        }\n",
    "    },\n",
    "    {\n",
    "        \"$project\": {\n",
    "            \"_id\": 0,\n",
    "            \"average_tweets_count_followers\": {\"$round\": [\"$average_tweets_count_followers\", 2]}\n",
    "        }\n",
    "    }\n",
    "]\n",
    "\n",
    "# Average number of tweets query for followees\n",
    "average_tweets_followees_query = [\n",
    "    {\n",
    "        \"$group\": {\n",
    "            \"_id\": None,\n",
    "            \"average_tweets_count_followees\": {\"$avg\": \"$statuses_count\"}\n",
    "        }\n",
    "    },\n",
    "    {\n",
    "        \"$project\": {\n",
    "            \"_id\": 0,\n",
    "            \"average_tweets_count_followees\": {\"$round\": [\"$average_tweets_count_followees\", 2]}\n",
    "        }\n",
    "    }\n",
    "]\n",
    "\n",
    "# Create a temporary collection by merging followers and followees\n",
    "temp_combined_collection = \"temp_combined_collection\"\n",
    "database[followers_collection_name].aggregate([\n",
    "    {\"$merge\": {\"into\": temp_combined_collection}}\n",
    "], allowDiskUse=True)\n",
    "\n",
    "database[followees_collection_name].aggregate([\n",
    "    {\"$merge\": {\"into\": temp_combined_collection}}\n",
    "], allowDiskUse=True)\n",
    "\n",
    "# Average number of tweets query for combined followers and followees\n",
    "average_tweets_combined_query = [\n",
    "    {\n",
    "        \"$group\": {\n",
    "            \"_id\": None,\n",
    "            \"average_tweets_count_combined\": {\"$avg\": \"$statuses_count\"}\n",
    "        }\n",
    "    },\n",
    "    {\n",
    "        \"$project\": {\n",
    "            \"_id\": 0,\n",
    "            \"average_tweets_count_combined\": {\"$round\": [\"$average_tweets_count_combined\", 2]}\n",
    "        }\n",
    "    }\n",
    "]\n",
    "\n",
    "# Execute queries\n",
    "result_followers = database[followers_collection_name].aggregate(average_tweets_followers_query)\n",
    "result_followees = database[followees_collection_name].aggregate(average_tweets_followees_query)\n",
    "result_combined = database[temp_combined_collection].aggregate(average_tweets_combined_query)\n",
    "\n",
    "# Print the results\n",
    "for doc in result_followers:\n",
    "    print(\"Average Tweets Count of Followers:\", doc[\"average_tweets_count_followers\"])\n",
    "\n",
    "for doc in result_followees:\n",
    "    print(\"Average Tweets Count of Followees:\", doc[\"average_tweets_count_followees\"])\n",
    "\n",
    "for doc in result_combined:\n",
    "    print(\"Combined Average Tweets Count:\", doc[\"average_tweets_count_combined\"])\n",
    "\n",
    "# Drop the temporary collection\n",
    "database[temp_combined_collection].drop()\n",
    "\n",
    "# Close the MongoDB connection\n",
    "client.close()"
   ]
  },
  {
   "cell_type": "markdown",
   "metadata": {},
   "source": [
    "### VIII"
   ]
  },
  {
   "cell_type": "code",
   "execution_count": 98,
   "metadata": {},
   "outputs": [
    {
     "name": "stdout",
     "output_type": "stream",
     "text": [
      "\n",
      "year | Number of followers\n",
      "None | 91\n",
      "\n",
      "year | Number of followees\n",
      "None | 124\n"
     ]
    }
   ],
   "source": [
    "# Connect to MongoDB\n",
    "client = MongoClient(mongo_uri)\n",
    "database = client[database_name]\n",
    "\n",
    "# Extract the number of followers per year (handling different data types)\n",
    "followers_per_year_query = [\n",
    "    {\n",
    "        \"$match\": {\n",
    "            \"creation_time\": {\"$exists\": True}\n",
    "        }\n",
    "    },\n",
    "    {\n",
    "        \"$group\": {\n",
    "            \"_id\": {\"$year\": {\"$dateFromString\": {\"dateString\": \"$creation_time\"}}},\n",
    "            \"count\": {\"$sum\": 1}\n",
    "        }\n",
    "    },\n",
    "    {\n",
    "        \"$project\": {\n",
    "            \"_id\": 0,\n",
    "            \"year\": \"$_id\",\n",
    "            \"Number of followers\": \"$count\"\n",
    "        }\n",
    "    },\n",
    "    {\n",
    "        \"$sort\": {\"year\": 1}\n",
    "    }\n",
    "]\n",
    "\n",
    "# Extract the number of followees per year (handling different data types)\n",
    "followees_per_year_query = [\n",
    "    {\n",
    "        \"$match\": {\n",
    "            \"creation_time\": {\"$exists\": True}\n",
    "        }\n",
    "    },\n",
    "    {\n",
    "        \"$group\": {\n",
    "            \"_id\": {\"$year\": {\"$dateFromString\": {\"dateString\": \"$creation_time\"}}},\n",
    "            \"count\": {\"$sum\": 1}\n",
    "        }\n",
    "    },\n",
    "    {\n",
    "        \"$project\": {\n",
    "            \"_id\": 0,\n",
    "            \"year\": \"$_id\",\n",
    "            \"Number of followees\": \"$count\"\n",
    "        }\n",
    "    },\n",
    "    {\n",
    "        \"$sort\": {\"year\": 1}\n",
    "    }\n",
    "]\n",
    "\n",
    "# Execute queries\n",
    "result_followers_per_year = database[followers_collection_name].aggregate(followers_per_year_query)\n",
    "result_followees_per_year = database[followees_collection_name].aggregate(followees_per_year_query)\n",
    "\n",
    "# Print the results for followers\n",
    "print(\"\\nyear | Number of followers\")\n",
    "for doc in result_followers_per_year:\n",
    "    year = int(doc['year']) if doc['year'] is not None else 'None'\n",
    "    print(f\"{year} | {doc['Number of followers']}\")\n",
    "\n",
    "# Print the results for followees\n",
    "print(\"\\nyear | Number of followees\")\n",
    "for doc in result_followees_per_year:\n",
    "    year = int(doc['year']) if doc['year'] is not None else 'None'\n",
    "    print(f\"{year} | {doc['Number of followees']}\")\n",
    "\n",
    "# Close the MongoDB connection\n",
    "client.close()"
   ]
  }
 ],
 "metadata": {
  "kernelspec": {
   "display_name": "Python 3",
   "language": "python",
   "name": "python3"
  },
  "language_info": {
   "codemirror_mode": {
    "name": "ipython",
    "version": 3
   },
   "file_extension": ".py",
   "mimetype": "text/x-python",
   "name": "python",
   "nbconvert_exporter": "python",
   "pygments_lexer": "ipython3",
   "version": "3.11.5"
  }
 },
 "nbformat": 4,
 "nbformat_minor": 2
}
