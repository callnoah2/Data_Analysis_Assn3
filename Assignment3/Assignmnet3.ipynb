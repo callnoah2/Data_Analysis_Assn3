{
 "cells": [
  {
   "cell_type": "markdown",
   "metadata": {},
   "source": [
    "# Assignment 3"
   ]
  },
  {
   "cell_type": "markdown",
   "metadata": {},
   "source": [
    "## Part 1"
   ]
  },
  {
   "cell_type": "markdown",
   "metadata": {},
   "source": [
    "### A"
   ]
  },
  {
   "cell_type": "code",
   "execution_count": null,
   "metadata": {},
   "outputs": [],
   "source": [
    "import mysql.connector\n",
    "from datetime import datetime\n",
    "\n",
    "conn = mysql.connector.connect(\n",
    "    host=\"your_host\",\n",
    "    user=\"your_username\",\n",
    "    password=\"your_password\",\n",
    "    database=\"your_database\"\n",
    ")\n",
    "cursor = conn.cursor()"
   ]
  },
  {
   "cell_type": "markdown",
   "metadata": {},
   "source": [
    "### B"
   ]
  },
  {
   "cell_type": "code",
   "execution_count": null,
   "metadata": {},
   "outputs": [],
   "source": [
    "create_table_query = \"\"\"\n",
    "CREATE TABLE IF NOT EXISTS `WikiEdit` (\n",
    "    `RevisionID` INT PRIMARY KEY,\n",
    "    `ArticleName` VARCHAR(500),\n",
    "    `EditDate` DATE,\n",
    "    `UserName` VARCHAR(50)\n",
    ")\n",
    "\"\"\"\n",
    "cursor.execute(create_table_query)"
   ]
  },
  {
   "cell_type": "markdown",
   "metadata": {},
   "source": [
    "### C"
   ]
  },
  {
   "cell_type": "code",
   "execution_count": null,
   "metadata": {},
   "outputs": [],
   "source": [
    "file_path = \"wiki_edit.txt\"\n",
    "with open(file_path, 'r') as file:\n",
    "    for line in file:\n",
    "        # Assuming the format is: RevisionID,ArticleName,EditDate,UserName\n",
    "        fields = line.strip().split(',')\n",
    "        revision_id, article_name, edit_date_str, user_name = fields\n",
    "\n",
    "        # Convert EditDate to date object\n",
    "        edit_date = datetime.strptime(edit_date_str, '%Y-%m-%d').date()\n",
    "\n",
    "        # Insert data into the database\n",
    "        insert_query = \"\"\"\n",
    "        INSERT INTO `WikiEdit` (`RevisionID`, `ArticleName`, `EditDate`, `UserName`)\n",
    "        VALUES (%s, %s, %s, %s)\n",
    "        \"\"\"\n",
    "        cursor.execute(insert_query, (int(revision_id), article_name, edit_date, user_name))\n",
    "        conn.commit()"
   ]
  },
  {
   "cell_type": "markdown",
   "metadata": {},
   "source": [
    "### D"
   ]
  },
  {
   "cell_type": "code",
   "execution_count": null,
   "metadata": {},
   "outputs": [],
   "source": [
    "largest_edit_query = \"\"\"\n",
    "SELECT ArticleName, COUNT(*) AS EditCount\n",
    "FROM `WikiEdit`\n",
    "GROUP BY ArticleName\n",
    "ORDER BY EditCount DESC\n",
    "LIMIT 1\n",
    "\"\"\"\n",
    "cursor.execute(largest_edit_query)\n",
    "result = cursor.fetchone()\n",
    "if result:\n",
    "    article_name_with_most_edits = result[0]\n",
    "    print(f\"Article name with the largest number of edits: {article_name_with_most_edits}\")\n",
    "\n",
    "# Close the connection\n",
    "cursor.close()\n",
    "conn.close()"
   ]
  }
 ],
 "metadata": {
  "kernelspec": {
   "display_name": "Python 3",
   "language": "python",
   "name": "python3"
  },
  "language_info": {
   "name": "python",
   "version": "3.11.1"
  }
 },
 "nbformat": 4,
 "nbformat_minor": 2
}
