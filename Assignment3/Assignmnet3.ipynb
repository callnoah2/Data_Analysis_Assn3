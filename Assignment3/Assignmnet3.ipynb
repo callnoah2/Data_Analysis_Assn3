{
 "cells": [
  {
   "cell_type": "markdown",
   "metadata": {},
   "source": [
    "# Assignment 3"
   ]
  },
  {
   "cell_type": "markdown",
   "metadata": {},
   "source": [
    "## Part 1"
   ]
  },
  {
   "cell_type": "markdown",
   "metadata": {},
   "source": [
    "### A"
   ]
  },
  {
   "cell_type": "code",
   "execution_count": 146,
   "metadata": {},
   "outputs": [],
   "source": [
    "import mysql.connector\n",
    "from datetime import datetime\n",
    "\n",
    "conn = mysql.connector.connect(\n",
    "    host=\" Noahs-Mac-mini.local\",\n",
    "    user=\"monty\",\n",
    "    password=\"sushiSQL\",\n",
    "    database=\"Assn3\"\n",
    ")\n",
    "cursor = conn.cursor()"
   ]
  },
  {
   "cell_type": "markdown",
   "metadata": {},
   "source": [
    "### B"
   ]
  },
  {
   "cell_type": "code",
   "execution_count": 147,
   "metadata": {},
   "outputs": [
    {
     "name": "stdout",
     "output_type": "stream",
     "text": [
      "complete\n"
     ]
    }
   ],
   "source": [
    "create_table_query = \"\"\"\n",
    "CREATE TABLE IF NOT EXISTS `WikiEdit` (\n",
    "    `RevisionID` INT PRIMARY KEY,\n",
    "    `ArticleName` VARCHAR(500),\n",
    "    `EditDate` DATE,\n",
    "    `UserName` VARCHAR(50)\n",
    ")\n",
    "\"\"\"\n",
    "cursor.execute(create_table_query)\n",
    "print(\"complete\")"
   ]
  },
  {
   "cell_type": "markdown",
   "metadata": {},
   "source": [
    "### C"
   ]
  },
  {
   "cell_type": "code",
   "execution_count": 148,
   "metadata": {},
   "outputs": [
    {
     "ename": "IntegrityError",
     "evalue": "1062 (23000): Duplicate entry '9019643' for key 'wikiedit.PRIMARY'",
     "output_type": "error",
     "traceback": [
      "\u001b[0;31m---------------------------------------------------------------------------\u001b[0m",
      "\u001b[0;31mMySQLInterfaceError\u001b[0m                       Traceback (most recent call last)",
      "File \u001b[0;32m~/anaconda3/lib/python3.11/site-packages/mysql/connector/connection_cext.py:661\u001b[0m, in \u001b[0;36mCMySQLConnection.cmd_query\u001b[0;34m(self, query, raw, buffered, raw_as_string)\u001b[0m\n\u001b[1;32m    660\u001b[0m         query \u001b[38;5;241m=\u001b[39m query\u001b[38;5;241m.\u001b[39mencode(\u001b[38;5;124m\"\u001b[39m\u001b[38;5;124mutf-8\u001b[39m\u001b[38;5;124m\"\u001b[39m)\n\u001b[0;32m--> 661\u001b[0m     \u001b[38;5;28mself\u001b[39m\u001b[38;5;241m.\u001b[39m_cmysql\u001b[38;5;241m.\u001b[39mquery(\n\u001b[1;32m    662\u001b[0m         query,\n\u001b[1;32m    663\u001b[0m         raw\u001b[38;5;241m=\u001b[39mraw,\n\u001b[1;32m    664\u001b[0m         buffered\u001b[38;5;241m=\u001b[39mbuffered,\n\u001b[1;32m    665\u001b[0m         raw_as_string\u001b[38;5;241m=\u001b[39mraw_as_string,\n\u001b[1;32m    666\u001b[0m         query_attrs\u001b[38;5;241m=\u001b[39m\u001b[38;5;28mself\u001b[39m\u001b[38;5;241m.\u001b[39mquery_attrs,\n\u001b[1;32m    667\u001b[0m     )\n\u001b[1;32m    668\u001b[0m \u001b[38;5;28;01mexcept\u001b[39;00m MySQLInterfaceError \u001b[38;5;28;01mas\u001b[39;00m err:\n",
      "\u001b[0;31mMySQLInterfaceError\u001b[0m: Duplicate entry '9019643' for key 'wikiedit.PRIMARY'",
      "\nThe above exception was the direct cause of the following exception:\n",
      "\u001b[0;31mIntegrityError\u001b[0m                            Traceback (most recent call last)",
      "Cell \u001b[0;32mIn[148], line 19\u001b[0m\n\u001b[1;32m     14\u001b[0m     \u001b[38;5;66;03m# Insert data into the database\u001b[39;00m\n\u001b[1;32m     15\u001b[0m     insert_query \u001b[38;5;241m=\u001b[39m \u001b[38;5;124m\"\"\"\u001b[39m\n\u001b[1;32m     16\u001b[0m \u001b[38;5;124m    INSERT INTO `WikiEdit` (`RevisionID`, `ArticleName`, `EditDate`, `UserName`)\u001b[39m\n\u001b[1;32m     17\u001b[0m \u001b[38;5;124m    VALUES (\u001b[39m\u001b[38;5;132;01m%s\u001b[39;00m\u001b[38;5;124m, \u001b[39m\u001b[38;5;132;01m%s\u001b[39;00m\u001b[38;5;124m, \u001b[39m\u001b[38;5;132;01m%s\u001b[39;00m\u001b[38;5;124m, \u001b[39m\u001b[38;5;132;01m%s\u001b[39;00m\u001b[38;5;124m)\u001b[39m\n\u001b[1;32m     18\u001b[0m \u001b[38;5;124m    \u001b[39m\u001b[38;5;124m\"\"\"\u001b[39m\n\u001b[0;32m---> 19\u001b[0m     cursor\u001b[38;5;241m.\u001b[39mexecute(insert_query, (\u001b[38;5;28mint\u001b[39m(revision_id), article_name, edit_date, user_name))\n\u001b[1;32m     20\u001b[0m     conn\u001b[38;5;241m.\u001b[39mcommit()\n\u001b[1;32m     21\u001b[0m \u001b[38;5;28;01mexcept\u001b[39;00m \u001b[38;5;167;01mValueError\u001b[39;00m \u001b[38;5;28;01mas\u001b[39;00m e:\n",
      "File \u001b[0;32m~/anaconda3/lib/python3.11/site-packages/mysql/connector/cursor_cext.py:374\u001b[0m, in \u001b[0;36mCMySQLCursor.execute\u001b[0;34m(self, operation, params, multi)\u001b[0m\n\u001b[1;32m    369\u001b[0m             \u001b[38;5;28;01mraise\u001b[39;00m ProgrammingError(\n\u001b[1;32m    370\u001b[0m                 \u001b[38;5;124m\"\u001b[39m\u001b[38;5;124mNot all parameters were used in the SQL statement\u001b[39m\u001b[38;5;124m\"\u001b[39m\n\u001b[1;32m    371\u001b[0m             )\n\u001b[1;32m    373\u001b[0m \u001b[38;5;28;01mtry\u001b[39;00m:\n\u001b[0;32m--> 374\u001b[0m     result \u001b[38;5;241m=\u001b[39m \u001b[38;5;28mself\u001b[39m\u001b[38;5;241m.\u001b[39m_cnx\u001b[38;5;241m.\u001b[39mcmd_query(\n\u001b[1;32m    375\u001b[0m         stmt,\n\u001b[1;32m    376\u001b[0m         raw\u001b[38;5;241m=\u001b[39m\u001b[38;5;28mself\u001b[39m\u001b[38;5;241m.\u001b[39m_raw,\n\u001b[1;32m    377\u001b[0m         buffered\u001b[38;5;241m=\u001b[39m\u001b[38;5;28mself\u001b[39m\u001b[38;5;241m.\u001b[39m_buffered,\n\u001b[1;32m    378\u001b[0m         raw_as_string\u001b[38;5;241m=\u001b[39m\u001b[38;5;28mself\u001b[39m\u001b[38;5;241m.\u001b[39m_raw_as_string,\n\u001b[1;32m    379\u001b[0m     )\n\u001b[1;32m    380\u001b[0m \u001b[38;5;28;01mexcept\u001b[39;00m MySQLInterfaceError \u001b[38;5;28;01mas\u001b[39;00m err:\n\u001b[1;32m    381\u001b[0m     \u001b[38;5;28;01mraise\u001b[39;00m get_mysql_exception(\n\u001b[1;32m    382\u001b[0m         msg\u001b[38;5;241m=\u001b[39merr\u001b[38;5;241m.\u001b[39mmsg, errno\u001b[38;5;241m=\u001b[39merr\u001b[38;5;241m.\u001b[39merrno, sqlstate\u001b[38;5;241m=\u001b[39merr\u001b[38;5;241m.\u001b[39msqlstate\n\u001b[1;32m    383\u001b[0m     ) \u001b[38;5;28;01mfrom\u001b[39;00m \u001b[38;5;21;01merr\u001b[39;00m\n",
      "File \u001b[0;32m~/anaconda3/lib/python3.11/site-packages/mysql/connector/opentelemetry/context_propagation.py:74\u001b[0m, in \u001b[0;36mwith_context_propagation.<locals>.wrapper\u001b[0;34m(cnx, *args, **kwargs)\u001b[0m\n\u001b[1;32m     72\u001b[0m \u001b[38;5;250m\u001b[39m\u001b[38;5;124;03m\"\"\"Context propagation decorator.\"\"\"\u001b[39;00m\n\u001b[1;32m     73\u001b[0m \u001b[38;5;28;01mif\u001b[39;00m \u001b[38;5;129;01mnot\u001b[39;00m OTEL_ENABLED \u001b[38;5;129;01mor\u001b[39;00m \u001b[38;5;129;01mnot\u001b[39;00m cnx\u001b[38;5;241m.\u001b[39motel_context_propagation:\n\u001b[0;32m---> 74\u001b[0m     \u001b[38;5;28;01mreturn\u001b[39;00m method(cnx, \u001b[38;5;241m*\u001b[39margs, \u001b[38;5;241m*\u001b[39m\u001b[38;5;241m*\u001b[39mkwargs)\n\u001b[1;32m     76\u001b[0m current_span \u001b[38;5;241m=\u001b[39m trace\u001b[38;5;241m.\u001b[39mget_current_span()\n\u001b[1;32m     77\u001b[0m tp_header \u001b[38;5;241m=\u001b[39m \u001b[38;5;28;01mNone\u001b[39;00m\n",
      "File \u001b[0;32m~/anaconda3/lib/python3.11/site-packages/mysql/connector/connection_cext.py:669\u001b[0m, in \u001b[0;36mCMySQLConnection.cmd_query\u001b[0;34m(self, query, raw, buffered, raw_as_string)\u001b[0m\n\u001b[1;32m    661\u001b[0m     \u001b[38;5;28mself\u001b[39m\u001b[38;5;241m.\u001b[39m_cmysql\u001b[38;5;241m.\u001b[39mquery(\n\u001b[1;32m    662\u001b[0m         query,\n\u001b[1;32m    663\u001b[0m         raw\u001b[38;5;241m=\u001b[39mraw,\n\u001b[0;32m   (...)\u001b[0m\n\u001b[1;32m    666\u001b[0m         query_attrs\u001b[38;5;241m=\u001b[39m\u001b[38;5;28mself\u001b[39m\u001b[38;5;241m.\u001b[39mquery_attrs,\n\u001b[1;32m    667\u001b[0m     )\n\u001b[1;32m    668\u001b[0m \u001b[38;5;28;01mexcept\u001b[39;00m MySQLInterfaceError \u001b[38;5;28;01mas\u001b[39;00m err:\n\u001b[0;32m--> 669\u001b[0m     \u001b[38;5;28;01mraise\u001b[39;00m get_mysql_exception(\n\u001b[1;32m    670\u001b[0m         err\u001b[38;5;241m.\u001b[39merrno, msg\u001b[38;5;241m=\u001b[39merr\u001b[38;5;241m.\u001b[39mmsg, sqlstate\u001b[38;5;241m=\u001b[39merr\u001b[38;5;241m.\u001b[39msqlstate\n\u001b[1;32m    671\u001b[0m     ) \u001b[38;5;28;01mfrom\u001b[39;00m \u001b[38;5;21;01merr\u001b[39;00m\n\u001b[1;32m    672\u001b[0m \u001b[38;5;28;01mexcept\u001b[39;00m \u001b[38;5;167;01mAttributeError\u001b[39;00m \u001b[38;5;28;01mas\u001b[39;00m err:\n\u001b[1;32m    673\u001b[0m     addr \u001b[38;5;241m=\u001b[39m (\n\u001b[1;32m    674\u001b[0m         \u001b[38;5;28mself\u001b[39m\u001b[38;5;241m.\u001b[39m_unix_socket \u001b[38;5;28;01mif\u001b[39;00m \u001b[38;5;28mself\u001b[39m\u001b[38;5;241m.\u001b[39m_unix_socket \u001b[38;5;28;01melse\u001b[39;00m \u001b[38;5;124mf\u001b[39m\u001b[38;5;124m\"\u001b[39m\u001b[38;5;132;01m{\u001b[39;00m\u001b[38;5;28mself\u001b[39m\u001b[38;5;241m.\u001b[39m_host\u001b[38;5;132;01m}\u001b[39;00m\u001b[38;5;124m:\u001b[39m\u001b[38;5;132;01m{\u001b[39;00m\u001b[38;5;28mself\u001b[39m\u001b[38;5;241m.\u001b[39m_port\u001b[38;5;132;01m}\u001b[39;00m\u001b[38;5;124m\"\u001b[39m\n\u001b[1;32m    675\u001b[0m     )\n",
      "\u001b[0;31mIntegrityError\u001b[0m: 1062 (23000): Duplicate entry '9019643' for key 'wikiedit.PRIMARY'"
     ]
    }
   ],
   "source": [
    "file_path = \"data/wiki_edit.txt\"\n",
    "with open(file_path, 'r') as file:\n",
    "    for line_number, line in enumerate(file, start=1):\n",
    "        # Split values based on whitespace\n",
    "        fields = line.strip().split()\n",
    "\n",
    "        if len(fields) == 4:\n",
    "            try:\n",
    "                revision_id, article_name, edit_date_str, user_name = fields\n",
    "\n",
    "                # Convert EditDate to date object\n",
    "                edit_date = datetime.strptime(edit_date_str, '%Y-%m-%d').date()\n",
    "\n",
    "                # Insert data into the database\n",
    "                insert_query = \"\"\"\n",
    "                INSERT INTO `WikiEdit` (`RevisionID`, `ArticleName`, `EditDate`, `UserName`)\n",
    "                VALUES (%s, %s, %s, %s)\n",
    "                \"\"\"\n",
    "                cursor.execute(insert_query, (int(revision_id), article_name, edit_date, user_name))\n",
    "                conn.commit()\n",
    "            except ValueError as e:\n",
    "                print(f\"Ignoring line {line_number}: {line.strip()} - {e}\")\n",
    "        else:\n",
    "            print(f\"Ignoring line {line_number}: {line.strip()} - Not enough values to unpack (expected 4, got {len(fields)})\")"
   ]
  },
  {
   "cell_type": "markdown",
   "metadata": {},
   "source": [
    "### D"
   ]
  },
  {
   "cell_type": "code",
   "execution_count": null,
   "metadata": {},
   "outputs": [
    {
     "name": "stdout",
     "output_type": "stream",
     "text": [
      "Article name with the largest number of edits: 2004_Indian_Ocean_earthquake\n"
     ]
    }
   ],
   "source": [
    "largest_edit_query = \"\"\"\n",
    "SELECT ArticleName, COUNT(*) AS EditCount\n",
    "FROM `WikiEdit`\n",
    "GROUP BY ArticleName\n",
    "ORDER BY EditCount DESC\n",
    "LIMIT 1\n",
    "\"\"\"\n",
    "cursor.execute(largest_edit_query)\n",
    "result = cursor.fetchone()\n",
    "if result:\n",
    "    article_name_with_most_edits = result[0]\n",
    "    print(f\"Article name with the largest number of edits: {article_name_with_most_edits}\")\n",
    "\n",
    "# Close the connection\n",
    "cursor.close()\n",
    "conn.close()"
   ]
  },
  {
   "cell_type": "markdown",
   "metadata": {},
   "source": [
    "## PART 2"
   ]
  },
  {
   "cell_type": "markdown",
   "metadata": {},
   "source": [
    "### A"
   ]
  },
  {
   "cell_type": "code",
   "execution_count": null,
   "metadata": {},
   "outputs": [
    {
     "name": "stdout",
     "output_type": "stream",
     "text": [
      "Service `mongodb-community` already started, use `brew services restart mongodb-community` to restart.\n"
     ]
    }
   ],
   "source": [
    "# !brew services start mongodb/brew/mongodb-community\n",
    "# !mongod --config /opt/homebrew/etc/mongod.conf\n",
    "# !mongosh\n",
    "# !use mongoAssn3"
   ]
  },
  {
   "cell_type": "markdown",
   "metadata": {},
   "source": [
    "### B"
   ]
  },
  {
   "cell_type": "code",
   "execution_count": 142,
   "metadata": {},
   "outputs": [
    {
     "name": "stdout",
     "output_type": "stream",
     "text": [
      "Data removed from collection: followers\n",
      "Data removed from collection: followees\n"
     ]
    }
   ],
   "source": [
    "# !pip install pymongo\n",
    "import json\n",
    "from pymongo import MongoClient\n",
    "from datetime import datetime\n",
    "\n",
    "# MongoDB connection details\n",
    "mongo_uri = \"mongodb://localhost:27017/\"\n",
    "database_name = \"mongoAssn3\"\n",
    "followers_collection_name = \"followers\"\n",
    "followees_collection_name = \"followees\"\n",
    "\n",
    "# Connect to MongoDB\n",
    "client = MongoClient(mongo_uri)\n",
    "database = client[database_name]\n",
    "\n",
    "# Clear database\n",
    "def remove_all_data(collection):\n",
    "    try:\n",
    "        collection.delete_many({})\n",
    "        print(f\"Data removed from collection: {collection.name}\")\n",
    "    except Exception as e:\n",
    "        print(f\"Problem removing data from collection {collection.name}: {e}\")\n",
    "\n",
    "# Function to insert data into a collection\n",
    "def insert_data(collection, data):\n",
    "    for entry in data:\n",
    "        try:\n",
    "            creation_time_str = entry.get('created_at', '')\n",
    "            if creation_time_str:\n",
    "                entry['created_at'] = datetime.strptime(creation_time_str, '%a %b %d %H:%M:%S %z %Y')  # Convert created_at to datetime\n",
    "            else:\n",
    "                entry['created_at'] = None  # Set to None if 'created_at' is empty\n",
    "            collection.insert_one(entry)\n",
    "        except ValueError as e:\n",
    "            print(f\"Ignoring entry with invalid created_at: {entry}\")\n",
    "\n",
    "# Clear data from collections\n",
    "remove_all_data(database[followers_collection_name])\n",
    "remove_all_data(database[followees_collection_name])\n",
    "\n",
    "# Read and insert data for followers\n",
    "with open('data/followers.json', 'r', encoding='utf-8') as followers_file:\n",
    "    followers_data = json.load(followers_file)\n",
    "    followers_collection = database[followers_collection_name]\n",
    "    insert_data(followers_collection, followers_data)\n",
    "\n",
    "# Read and insert data for followees\n",
    "with open('data/followees.json', 'r', encoding='utf-8') as followees_file:\n",
    "    followees_data = json.load(followees_file)\n",
    "    followees_collection = database[followees_collection_name]\n",
    "    insert_data(followees_collection, followees_data)\n",
    "\n",
    "# Close the MongoDB connection\n",
    "client.close()"
   ]
  },
  {
   "cell_type": "markdown",
   "metadata": {},
   "source": [
    "## C"
   ]
  },
  {
   "cell_type": "markdown",
   "metadata": {},
   "source": [
    "### I"
   ]
  },
  {
   "cell_type": "code",
   "execution_count": null,
   "metadata": {},
   "outputs": [
    {
     "name": "stdout",
     "output_type": "stream",
     "text": [
      "Average Followers Count: 2983.21\n"
     ]
    }
   ],
   "source": [
    "followers_collection_name = \"followers\"\n",
    "\n",
    "# Connect to MongoDB\n",
    "client = MongoClient(mongo_uri)\n",
    "database = client[database_name]\n",
    "\n",
    "# Followers count average query\n",
    "average_followers_query = [\n",
    "    {\n",
    "        \"$group\": {\n",
    "            \"_id\": None,\n",
    "            \"average_followers_count\": {\"$avg\": \"$followers_count\"}\n",
    "        }\n",
    "    },\n",
    "    {\n",
    "        \"$project\": {\n",
    "            \"_id\": 0,\n",
    "            \"average_followers_count\": {\"$round\": [\"$average_followers_count\", 2]}\n",
    "        }\n",
    "    }\n",
    "]\n",
    "\n",
    "# Execute the query\n",
    "result = database[followers_collection_name].aggregate(average_followers_query)\n",
    "\n",
    "# Print the result\n",
    "for doc in result:\n",
    "    print(\"Average Followers Count:\", doc[\"average_followers_count\"])\n",
    "\n",
    "# Close the MongoDB connection\n",
    "client.close()"
   ]
  },
  {
   "cell_type": "markdown",
   "metadata": {},
   "source": [
    "### II"
   ]
  },
  {
   "cell_type": "code",
   "execution_count": null,
   "metadata": {},
   "outputs": [
    {
     "name": "stdout",
     "output_type": "stream",
     "text": [
      "Average Followers Count of Followees: 1075218.86\n"
     ]
    }
   ],
   "source": [
    "followees_collection_name = \"followees\"\n",
    "\n",
    "# Connect to MongoDB\n",
    "client = MongoClient(mongo_uri)\n",
    "database = client[database_name]\n",
    "\n",
    "# Followees count average query with rounding to 2 decimal places\n",
    "average_followees_query = [\n",
    "    {\n",
    "        \"$group\": {\n",
    "            \"_id\": None,\n",
    "            \"average_followers_count\": {\"$avg\": \"$followers_count\"}\n",
    "        }\n",
    "    },\n",
    "    {\n",
    "        \"$project\": {\n",
    "            \"_id\": 0,\n",
    "            \"average_followers_count\": {\"$round\": [\"$average_followers_count\", 2]}\n",
    "        }\n",
    "    }\n",
    "]\n",
    "\n",
    "# Execute the query\n",
    "result = database[followees_collection_name].aggregate(average_followees_query)\n",
    "\n",
    "# Print the result\n",
    "for doc in result:\n",
    "    print(\"Average Followers Count of Followees:\", doc[\"average_followers_count\"])\n",
    "\n",
    "# Close the MongoDB connection\n",
    "client.close()"
   ]
  },
  {
   "cell_type": "markdown",
   "metadata": {},
   "source": [
    "### III"
   ]
  },
  {
   "cell_type": "code",
   "execution_count": null,
   "metadata": {},
   "outputs": [
    {
     "name": "stdout",
     "output_type": "stream",
     "text": [
      "Average followees count of followers: 1055.49\n",
      "got here 2\n"
     ]
    }
   ],
   "source": [
    "# Connect to MongoDB\n",
    "client = MongoClient(mongo_uri)\n",
    "database = client[database_name]\n",
    "\n",
    "# Average followees count query\n",
    "average_followees_query = [\n",
    "    {\n",
    "        \"$group\": {\n",
    "            \"_id\": None,\n",
    "            \"average_followees_count\": {\"$avg\": \"$friends_count\"}\n",
    "        }\n",
    "    },\n",
    "    {\n",
    "        \"$project\": {\n",
    "            \"_id\": 0,\n",
    "            \"average_followees_count\": {\"$round\": [\"$average_followees_count\", 2]}\n",
    "        }\n",
    "    }\n",
    "]\n",
    "\n",
    "\n",
    "# Execute the query\n",
    "result = database[followers_collection_name].aggregate(average_followees_query)\n",
    "\n",
    "# Print the result\n",
    "for doc in result:\n",
    "    print(\"Average followees count of followers:\", doc['average_followees_count'])\n",
    "\n",
    "# Close the MongoDB connection\n",
    "client.close()"
   ]
  },
  {
   "cell_type": "markdown",
   "metadata": {},
   "source": [
    "### IV"
   ]
  },
  {
   "cell_type": "code",
   "execution_count": null,
   "metadata": {},
   "outputs": [
    {
     "name": "stdout",
     "output_type": "stream",
     "text": [
      "Average Followees Count of Followees: 1019.7\n"
     ]
    }
   ],
   "source": [
    "# Connect to MongoDB\n",
    "client = MongoClient(mongo_uri)\n",
    "database = client[database_name]\n",
    "\n",
    "# Followees count average query with rounding to 2 decimal places\n",
    "average_followees_query = [\n",
    "    {\n",
    "        \"$group\": {\n",
    "            \"_id\": None,\n",
    "            \"average_followees_count\": {\"$avg\": \"$friends_count\"}\n",
    "        }\n",
    "    },\n",
    "    {\n",
    "        \"$project\": {\n",
    "            \"_id\": 0,\n",
    "            \"average_followees_count\": {\"$round\": [\"$average_followees_count\", 2]}\n",
    "        }\n",
    "    }\n",
    "]\n",
    "\n",
    "# Execute the query\n",
    "result = database[followees_collection_name].aggregate(average_followees_query)\n",
    "\n",
    "# Print the result\n",
    "for doc in result:\n",
    "    print(\"Average Followees Count of Followees:\", doc[\"average_followees_count\"])\n",
    "\n",
    "# Close the MongoDB connection\n",
    "client.close()"
   ]
  },
  {
   "cell_type": "markdown",
   "metadata": {},
   "source": [
    "### V"
   ]
  },
  {
   "cell_type": "code",
   "execution_count": 136,
   "metadata": {},
   "outputs": [
    {
     "name": "stdout",
     "output_type": "stream",
     "text": [
      "Number of Verified Followers: 1\n",
      "Number of Verified Followees: 11\n",
      "Number of Verified Followers and Followees Combined: 12\n"
     ]
    }
   ],
   "source": [
    "# Connect to MongoDB\n",
    "client = MongoClient(mongo_uri)\n",
    "database = client[database_name]\n",
    "\n",
    "# Number of verified followers query\n",
    "verified_followers_query = [\n",
    "    {\n",
    "        \"$match\": {\"verified\": True}\n",
    "    },\n",
    "    {\n",
    "        \"$group\": {\n",
    "            \"_id\": None,\n",
    "            \"count\": {\"$sum\": 1}\n",
    "        }\n",
    "    }\n",
    "]\n",
    "\n",
    "# Number of verified followees query\n",
    "verified_followees_query = [\n",
    "    {\n",
    "        \"$match\": {\"verified\": True}\n",
    "    },\n",
    "    {\n",
    "        \"$group\": {\n",
    "            \"_id\": None,\n",
    "            \"count\": {\"$sum\": 1}\n",
    "        }\n",
    "    }\n",
    "]\n",
    "\n",
    "# Create a temporary collection by merging followers and followees\n",
    "temp_combined_collection = \"temp_combined_collection\"\n",
    "database[followers_collection_name].aggregate([\n",
    "    {\"$match\": {\"verified\": True}},\n",
    "    {\"$merge\": {\"into\": temp_combined_collection}}\n",
    "], allowDiskUse=True)\n",
    "\n",
    "database[followees_collection_name].aggregate([\n",
    "    {\"$match\": {\"verified\": True}},\n",
    "    {\"$merge\": {\"into\": temp_combined_collection}}\n",
    "], allowDiskUse=True)\n",
    "\n",
    "# Combined count of verified followers and followees\n",
    "combined_verified_query = [\n",
    "    {\n",
    "        \"$group\": {\n",
    "            \"_id\": \"$id\",\n",
    "            \"count\": {\"$sum\": 1}\n",
    "        }\n",
    "    },\n",
    "    {\n",
    "        \"$group\": {\n",
    "            \"_id\": None,\n",
    "            \"count\": {\"$sum\": \"$count\"}\n",
    "        }\n",
    "    }\n",
    "]\n",
    "\n",
    "# Execute queries\n",
    "verified_followers_count = database[followers_collection_name].aggregate(verified_followers_query).next()[\"count\"]\n",
    "verified_followees_count = database[followees_collection_name].aggregate(verified_followees_query).next()[\"count\"]\n",
    "result = database[temp_combined_collection].aggregate(combined_verified_query)\n",
    "\n",
    "# Print the results\n",
    "print(\"Number of Verified Followers:\", verified_followers_count)\n",
    "print(\"Number of Verified Followees:\", verified_followees_count)\n",
    "for doc in result:\n",
    "    combined_verified_count = doc[\"count\"]\n",
    "    print(\"Number of Verified Followers and Followees Combined:\", combined_verified_count)\n",
    "\n",
    "# Drop the temporary collection\n",
    "database[temp_combined_collection].drop()\n",
    "\n",
    "# Close the MongoDB connection\n",
    "client.close()"
   ]
  },
  {
   "cell_type": "markdown",
   "metadata": {},
   "source": [
    "### VI"
   ]
  },
  {
   "cell_type": "code",
   "execution_count": null,
   "metadata": {},
   "outputs": [
    {
     "name": "stdout",
     "output_type": "stream",
     "text": [
      "Average Favorites Count of Followers: 1899.68\n",
      "Average Favorites Count of Followees: 6092.41\n",
      "Combined Average Favorites Count: 4317.81\n"
     ]
    }
   ],
   "source": [
    "# Connect to MongoDB\n",
    "client = MongoClient(mongo_uri)\n",
    "database = client[database_name]\n",
    "\n",
    "# Average favorites count query for followers\n",
    "average_favorites_followers_query = [\n",
    "    {\n",
    "        \"$group\": {\n",
    "            \"_id\": None,\n",
    "            \"average_favorites_count_followers\": {\"$avg\": \"$favourites_count\"}\n",
    "        }\n",
    "    },\n",
    "    {\n",
    "        \"$project\": {\n",
    "            \"_id\": 0,\n",
    "            \"average_favorites_count_followers\": {\"$round\": [\"$average_favorites_count_followers\", 2]}\n",
    "        }\n",
    "    }\n",
    "]\n",
    "\n",
    "# Average favorites count query for followees\n",
    "average_favorites_followees_query = [\n",
    "    {\n",
    "        \"$group\": {\n",
    "            \"_id\": None,\n",
    "            \"average_favorites_count_followees\": {\"$avg\": \"$favourites_count\"}\n",
    "        }\n",
    "    },\n",
    "    {\n",
    "        \"$project\": {\n",
    "            \"_id\": 0,\n",
    "            \"average_favorites_count_followees\": {\"$round\": [\"$average_favorites_count_followees\", 2]}\n",
    "        }\n",
    "    }\n",
    "]\n",
    "\n",
    "# Create a temporary collection by merging followers and followees\n",
    "temp_combined_collection = \"temp_combined_collection\"\n",
    "database[followers_collection_name].aggregate([\n",
    "    {\"$merge\": {\"into\": temp_combined_collection}}\n",
    "], allowDiskUse=True)\n",
    "\n",
    "database[followees_collection_name].aggregate([\n",
    "    {\"$merge\": {\"into\": temp_combined_collection}}\n",
    "], allowDiskUse=True)\n",
    "\n",
    "# Average favorites count query for combined followers and followees\n",
    "average_favorites_combined_query = [\n",
    "    {\n",
    "        \"$group\": {\n",
    "            \"_id\": None,\n",
    "            \"average_favorites_count_combined\": {\"$avg\": \"$favourites_count\"}\n",
    "        }\n",
    "    },\n",
    "    {\n",
    "        \"$project\": {\n",
    "            \"_id\": 0,\n",
    "            \"average_favorites_count_combined\": {\"$round\": [\"$average_favorites_count_combined\", 2]}\n",
    "        }\n",
    "    }\n",
    "]\n",
    "\n",
    "# Execute queries\n",
    "result_followers = database[followers_collection_name].aggregate(average_favorites_followers_query)\n",
    "result_followees = database[followees_collection_name].aggregate(average_favorites_followees_query)\n",
    "result_combined = database[temp_combined_collection].aggregate(average_favorites_combined_query)\n",
    "\n",
    "# Print the results\n",
    "for doc in result_followers:\n",
    "    print(\"Average Favorites Count of Followers:\", doc[\"average_favorites_count_followers\"])\n",
    "\n",
    "for doc in result_followees:\n",
    "    print(\"Average Favorites Count of Followees:\", doc[\"average_favorites_count_followees\"])\n",
    "\n",
    "for doc in result_combined:\n",
    "    print(\"Combined Average Favorites Count:\", doc[\"average_favorites_count_combined\"])\n",
    "\n",
    "# Drop the temporary collection\n",
    "database[temp_combined_collection].drop()\n",
    "\n",
    "# Close the MongoDB connection\n",
    "client.close()"
   ]
  },
  {
   "cell_type": "markdown",
   "metadata": {},
   "source": [
    "### VII"
   ]
  },
  {
   "cell_type": "code",
   "execution_count": 137,
   "metadata": {},
   "outputs": [
    {
     "name": "stdout",
     "output_type": "stream",
     "text": [
      "Average Tweets Count of Followers: 654.21\n",
      "Average Tweets Count of Followees: 4055.74\n",
      "Combined Average Tweets Count: 2616.02\n"
     ]
    }
   ],
   "source": [
    "# Connect to MongoDB\n",
    "client = MongoClient(mongo_uri)\n",
    "database = client[database_name]\n",
    "\n",
    "# Average number of tweets query for followers\n",
    "average_tweets_followers_query = [\n",
    "    {\n",
    "        \"$group\": {\n",
    "            \"_id\": None,\n",
    "            \"average_tweets_count_followers\": {\"$avg\": \"$statuses_count\"}\n",
    "        }\n",
    "    },\n",
    "    {\n",
    "        \"$project\": {\n",
    "            \"_id\": 0,\n",
    "            \"average_tweets_count_followers\": {\"$round\": [\"$average_tweets_count_followers\", 2]}\n",
    "        }\n",
    "    }\n",
    "]\n",
    "\n",
    "# Average number of tweets query for followees\n",
    "average_tweets_followees_query = [\n",
    "    {\n",
    "        \"$group\": {\n",
    "            \"_id\": None,\n",
    "            \"average_tweets_count_followees\": {\"$avg\": \"$statuses_count\"}\n",
    "        }\n",
    "    },\n",
    "    {\n",
    "        \"$project\": {\n",
    "            \"_id\": 0,\n",
    "            \"average_tweets_count_followees\": {\"$round\": [\"$average_tweets_count_followees\", 2]}\n",
    "        }\n",
    "    }\n",
    "]\n",
    "\n",
    "# Create a temporary collection by merging followers and followees\n",
    "temp_combined_collection = \"temp_combined_collection\"\n",
    "database[followers_collection_name].aggregate([\n",
    "    {\"$merge\": {\"into\": temp_combined_collection}}\n",
    "], allowDiskUse=True)\n",
    "\n",
    "database[followees_collection_name].aggregate([\n",
    "    {\"$merge\": {\"into\": temp_combined_collection}}\n",
    "], allowDiskUse=True)\n",
    "\n",
    "# Average number of tweets query for combined followers and followees\n",
    "average_tweets_combined_query = [\n",
    "    {\n",
    "        \"$group\": {\n",
    "            \"_id\": None,\n",
    "            \"average_tweets_count_combined\": {\"$avg\": \"$statuses_count\"}\n",
    "        }\n",
    "    },\n",
    "    {\n",
    "        \"$project\": {\n",
    "            \"_id\": 0,\n",
    "            \"average_tweets_count_combined\": {\"$round\": [\"$average_tweets_count_combined\", 2]}\n",
    "        }\n",
    "    }\n",
    "]\n",
    "\n",
    "# Execute queries\n",
    "result_followers = database[followers_collection_name].aggregate(average_tweets_followers_query)\n",
    "result_followees = database[followees_collection_name].aggregate(average_tweets_followees_query)\n",
    "result_combined = database[temp_combined_collection].aggregate(average_tweets_combined_query)\n",
    "\n",
    "# Print the results\n",
    "for doc in result_followers:\n",
    "    print(\"Average Tweets Count of Followers:\", doc[\"average_tweets_count_followers\"])\n",
    "\n",
    "for doc in result_followees:\n",
    "    print(\"Average Tweets Count of Followees:\", doc[\"average_tweets_count_followees\"])\n",
    "\n",
    "for doc in result_combined:\n",
    "    print(\"Combined Average Tweets Count:\", doc[\"average_tweets_count_combined\"])\n",
    "\n",
    "# Drop the temporary collection\n",
    "database[temp_combined_collection].drop()\n",
    "\n",
    "# Close the MongoDB connection\n",
    "client.close()"
   ]
  },
  {
   "cell_type": "markdown",
   "metadata": {},
   "source": [
    "### VIII"
   ]
  },
  {
   "cell_type": "code",
   "execution_count": 145,
   "metadata": {},
   "outputs": [
    {
     "name": "stdout",
     "output_type": "stream",
     "text": [
      "\n",
      "year | Number of followers\n",
      "2008 | 1\n",
      "2009 | 3\n",
      "2010 | 4\n",
      "2011 | 5\n",
      "2012 | 4\n",
      "2013 | 3\n",
      "2014 | 4\n",
      "2015 | 3\n",
      "2016 | 7\n",
      "2017 | 4\n",
      "2018 | 6\n",
      "2019 | 9\n",
      "2020 | 13\n",
      "2021 | 13\n",
      "2022 | 12\n",
      "\n",
      "year | Number of followees\n",
      "2007 | 4\n",
      "2008 | 5\n",
      "2009 | 16\n",
      "2010 | 8\n",
      "2011 | 9\n",
      "2012 | 9\n",
      "2013 | 6\n",
      "2014 | 6\n",
      "2015 | 8\n",
      "2016 | 8\n",
      "2017 | 8\n",
      "2018 | 3\n",
      "2019 | 10\n",
      "2020 | 10\n",
      "2021 | 8\n",
      "2022 | 6\n"
     ]
    }
   ],
   "source": [
    "# Connect to MongoDB\n",
    "client = MongoClient(mongo_uri)\n",
    "database = client[database_name]\n",
    "\n",
    "# Extract the number of followers per year (handling different data types)\n",
    "followers_per_year_query = [\n",
    "    {\n",
    "        \"$match\": {\n",
    "            \"created_at\": {\"$exists\": True, \"$ne\": None}\n",
    "        }\n",
    "    },\n",
    "    {\n",
    "        \"$group\": {\n",
    "            \"_id\": {\"$year\": \"$created_at\"},\n",
    "            \"count\": {\"$sum\": 1}\n",
    "        }\n",
    "    },\n",
    "    {\n",
    "        \"$project\": {\n",
    "            \"_id\": 0,\n",
    "            \"year\": \"$_id\",\n",
    "            \"Number of followers\": \"$count\"\n",
    "        }\n",
    "    },\n",
    "    {\n",
    "        \"$sort\": {\"year\": 1}\n",
    "    }\n",
    "]\n",
    "\n",
    "# Extract the number of followees per year (handling different data types)\n",
    "followees_per_year_query = [\n",
    "    {\n",
    "        \"$match\": {\n",
    "            \"created_at\": {\"$exists\": True, \"$ne\": None}\n",
    "        }\n",
    "    },\n",
    "    {\n",
    "        \"$group\": {\n",
    "            \"_id\": {\"$year\": \"$created_at\"},\n",
    "            \"count\": {\"$sum\": 1}\n",
    "        }\n",
    "    },\n",
    "    {\n",
    "        \"$project\": {\n",
    "            \"_id\": 0,\n",
    "            \"year\": \"$_id\",\n",
    "            \"Number of followees\": \"$count\"\n",
    "        }\n",
    "    },\n",
    "    {\n",
    "        \"$sort\": {\"year\": 1}\n",
    "    }\n",
    "]\n",
    "\n",
    "# Execute queries\n",
    "result_followers_per_year = database[followers_collection_name].aggregate(followers_per_year_query)\n",
    "result_followees_per_year = database[followees_collection_name].aggregate(followees_per_year_query)\n",
    "\n",
    "# Print the results for followers\n",
    "print(\"\\nyear | Number of followers\")\n",
    "for doc in result_followers_per_year:\n",
    "    year = int(doc['year']) if doc['year'] is not None else 'None'\n",
    "    print(f\"{year} | {doc['Number of followers']}\")\n",
    "\n",
    "# Print the results for followees\n",
    "print(\"\\nyear | Number of followees\")\n",
    "for doc in result_followees_per_year:\n",
    "    year = int(doc['year']) if doc['year'] is not None else 'None'\n",
    "    print(f\"{year} | {doc['Number of followees']}\")\n",
    "\n",
    "# Close the MongoDB connection\n",
    "client.close()"
   ]
  }
 ],
 "metadata": {
  "kernelspec": {
   "display_name": "Python 3",
   "language": "python",
   "name": "python3"
  },
  "language_info": {
   "codemirror_mode": {
    "name": "ipython",
    "version": 3
   },
   "file_extension": ".py",
   "mimetype": "text/x-python",
   "name": "python",
   "nbconvert_exporter": "python",
   "pygments_lexer": "ipython3",
   "version": "3.11.1"
  }
 },
 "nbformat": 4,
 "nbformat_minor": 2
}
